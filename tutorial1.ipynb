{
 "cells": [
  {
   "cell_type": "code",
   "execution_count": 1,
   "id": "6546bded-1214-4e61-8848-d7ee34e78d11",
   "metadata": {},
   "outputs": [
    {
     "data": {
      "text/plain": [
       "3"
      ]
     },
     "execution_count": 1,
     "metadata": {},
     "output_type": "execute_result"
    }
   ],
   "source": [
    "1+2"
   ]
  },
  {
   "cell_type": "code",
   "execution_count": 2,
   "id": "d7357f8e-a3db-441b-b85e-633f5050535c",
   "metadata": {},
   "outputs": [],
   "source": [
    "x, y = 2, 3\n"
   ]
  },
  {
   "cell_type": "code",
   "execution_count": 3,
   "id": "8565650e-d348-4dd0-b253-f8355417b209",
   "metadata": {},
   "outputs": [
    {
     "data": {
      "text/plain": [
       "2"
      ]
     },
     "execution_count": 3,
     "metadata": {},
     "output_type": "execute_result"
    }
   ],
   "source": [
    "x"
   ]
  },
  {
   "cell_type": "code",
   "execution_count": 4,
   "id": "75e0522f-5f14-4998-a50e-9be1e3ced3db",
   "metadata": {},
   "outputs": [
    {
     "data": {
      "text/plain": [
       "3"
      ]
     },
     "execution_count": 4,
     "metadata": {},
     "output_type": "execute_result"
    }
   ],
   "source": [
    "y"
   ]
  },
  {
   "cell_type": "code",
   "execution_count": 5,
   "id": "a36d508b-670d-4496-9130-9dc25e238871",
   "metadata": {},
   "outputs": [],
   "source": [
    "tu = (23,'abc',4.56,(2,3),'def')"
   ]
  },
  {
   "cell_type": "code",
   "execution_count": 6,
   "id": "5443561b-27ff-4b68-910c-4e3c78549fe7",
   "metadata": {},
   "outputs": [],
   "source": [
    "li = [\"abc\",34,4.34,23]"
   ]
  },
  {
   "cell_type": "code",
   "execution_count": 7,
   "id": "df467f9f-4373-45c0-87b9-a412c50a8e5d",
   "metadata": {},
   "outputs": [],
   "source": [
    "st = \"Hello World\""
   ]
  },
  {
   "cell_type": "code",
   "execution_count": 8,
   "id": "58b3a380-1e71-4208-aa55-deed1159a969",
   "metadata": {},
   "outputs": [],
   "source": [
    "st = 'Hello World'"
   ]
  },
  {
   "cell_type": "code",
   "execution_count": 9,
   "id": "19f7dcdc-79f5-4a6c-8333-312da3e64cca",
   "metadata": {},
   "outputs": [],
   "source": [
    "st = \"\"\"This is a multi-line string that uses tirple quotes.\"\"\""
   ]
  },
  {
   "cell_type": "code",
   "execution_count": null,
   "id": "25fb45ca-2199-49aa-a067-cf6e56b04bc7",
   "metadata": {},
   "outputs": [],
   "source": []
  }
 ],
 "metadata": {
  "kernelspec": {
   "display_name": "Python 3",
   "language": "python",
   "name": "python3"
  },
  "language_info": {
   "codemirror_mode": {
    "name": "ipython",
    "version": 3
   },
   "file_extension": ".py",
   "mimetype": "text/x-python",
   "name": "python",
   "nbconvert_exporter": "python",
   "pygments_lexer": "ipython3",
   "version": "3.8.8"
  }
 },
 "nbformat": 4,
 "nbformat_minor": 5
}
