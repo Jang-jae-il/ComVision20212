{
 "cells": [
  {
   "cell_type": "markdown",
   "id": "90b2c7a6-5770-4580-913d-dc809d6dcf44",
   "metadata": {},
   "source": [
    "### Generating Lists using \"List Comprehensions\""
   ]
  },
  {
   "cell_type": "code",
   "execution_count": 1,
   "id": "b7b9650a-e7a9-4fdf-b1d1-837123db418a",
   "metadata": {},
   "outputs": [
    {
     "data": {
      "text/plain": [
       "[6, 12, 4, 14]"
      ]
     },
     "execution_count": 1,
     "metadata": {},
     "output_type": "execute_result"
    }
   ],
   "source": [
    "li = [3,6,2,7]\n",
    "[elem*2 for elem in li]"
   ]
  },
  {
   "cell_type": "code",
   "execution_count": 2,
   "id": "b4a621d2-f7dd-4a68-b851-fa4da45f3120",
   "metadata": {},
   "outputs": [
    {
     "data": {
      "text/plain": [
       "[3, 6, 21]"
      ]
     },
     "execution_count": 2,
     "metadata": {},
     "output_type": "execute_result"
    }
   ],
   "source": [
    "li =[('a',1),('b',2),('c',7)]\n",
    "[n*3 for (x,n) in li]"
   ]
  },
  {
   "cell_type": "code",
   "execution_count": 3,
   "id": "8c481532-dce3-448b-a79b-0cee326bf0b3",
   "metadata": {},
   "outputs": [
    {
     "data": {
      "text/plain": [
       "[12, 14, 18]"
      ]
     },
     "execution_count": 3,
     "metadata": {},
     "output_type": "execute_result"
    }
   ],
   "source": [
    "li = [3,6,2,7,1,9]\n",
    "[elem *2 for elem in li if elem>4]"
   ]
  },
  {
   "cell_type": "code",
   "execution_count": 4,
   "id": "61012a21-e7c1-471e-bf0c-498f800c5cbe",
   "metadata": {},
   "outputs": [
    {
     "data": {
      "text/plain": [
       "[8, 6, 10, 4]"
      ]
     },
     "execution_count": 4,
     "metadata": {},
     "output_type": "execute_result"
    }
   ],
   "source": [
    "li = [3,2,4,1]\n",
    "[elem*2 for elem in[item+1 for item in li]]"
   ]
  },
  {
   "cell_type": "code",
   "execution_count": null,
   "id": "0c7ec266-0ff2-40a1-ba9d-50245bc2abf4",
   "metadata": {},
   "outputs": [],
   "source": []
  }
 ],
 "metadata": {
  "kernelspec": {
   "display_name": "Python 3",
   "language": "python",
   "name": "python3"
  },
  "language_info": {
   "codemirror_mode": {
    "name": "ipython",
    "version": 3
   },
   "file_extension": ".py",
   "mimetype": "text/x-python",
   "name": "python",
   "nbconvert_exporter": "python",
   "pygments_lexer": "ipython3",
   "version": "3.9.4"
  }
 },
 "nbformat": 4,
 "nbformat_minor": 5
}
