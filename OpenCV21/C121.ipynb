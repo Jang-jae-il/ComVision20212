{
 "cells": [
  {
   "cell_type": "code",
   "execution_count": 31,
   "id": "e63c2d6a-dc34-4627-b2c6-e6ba6c91fc9c",
   "metadata": {},
   "outputs": [],
   "source": [
    "import numpy as np"
   ]
  },
  {
   "cell_type": "code",
   "execution_count": 32,
   "id": "506d7154-0fc9-486f-92ec-f0d0e36aed87",
   "metadata": {},
   "outputs": [],
   "source": [
    "import cv2"
   ]
  },
  {
   "cell_type": "code",
   "execution_count": 33,
   "id": "0adf8356-9e48-4d60-9f78-7a830e8142b5",
   "metadata": {},
   "outputs": [],
   "source": [
    "img = cv2.imread('C:/Users/wodlf/OpenCV21/cat.jpg',0)"
   ]
  },
  {
   "cell_type": "code",
   "execution_count": 34,
   "id": "de5492c6-961c-47cf-a40d-94848e563b7d",
   "metadata": {},
   "outputs": [],
   "source": [
    "cv2.imshow('image',img)\n",
    "cv2.waitKey(0)\n",
    "cv2.destroyAllWindows()"
   ]
  },
  {
   "cell_type": "code",
   "execution_count": 36,
   "id": "b371be7c-0072-44f6-8111-4b7a44d92b30",
   "metadata": {},
   "outputs": [],
   "source": [
    "cv2.imshow('image',img)\n",
    "k = cv2.waitKey(0)\n",
    "if (k == 27): # wait for ESC key to exit\n",
    "    cv2.destroyAllWindows()\n",
    "elif (k == ord('s')): # wait for 's' key to save and exit\n",
    "    cv2.imwrite('C:/Users/wodlf/OpenCV21/catgray.jpg',img)\n",
    "    cv2.destroyAllWindows()"
   ]
  },
  {
   "cell_type": "code",
   "execution_count": null,
   "id": "ed94900d-2d7b-4ba7-8e8b-499c73941f3f",
   "metadata": {},
   "outputs": [],
   "source": []
  }
 ],
 "metadata": {
  "kernelspec": {
   "display_name": "Python 3",
   "language": "python",
   "name": "python3"
  },
  "language_info": {
   "codemirror_mode": {
    "name": "ipython",
    "version": 3
   },
   "file_extension": ".py",
   "mimetype": "text/x-python",
   "name": "python",
   "nbconvert_exporter": "python",
   "pygments_lexer": "ipython3",
   "version": "3.9.4"
  }
 },
 "nbformat": 4,
 "nbformat_minor": 5
}
