{
 "cells": [
  {
   "cell_type": "markdown",
   "metadata": {},
   "source": [
    "# 1.4.4 Smoothing Images"
   ]
  },
  {
   "cell_type": "markdown",
   "metadata": {},
   "source": [
    "## Kernel Convolution"
   ]
  },
  {
   "cell_type": "code",
   "execution_count": 1,
   "metadata": {},
   "outputs": [],
   "source": [
    "import cv2\n",
    "import numpy as np\n",
    "from matplotlib import pyplot as plt"
   ]
  },
  {
   "cell_type": "code",
   "execution_count": 2,
   "metadata": {},
   "outputs": [],
   "source": [
    "l=1\n",
    "kernel = np.array([[0,-1,0],[-1,4,-1],[0,-1,0]],np.float32)"
   ]
  },
  {
   "cell_type": "code",
   "execution_count": 3,
   "metadata": {},
   "outputs": [
    {
     "data": {
      "text/plain": [
       "array([[ 0., -1.,  0.],\n",
       "       [-1.,  4., -1.],\n",
       "       [ 0., -1.,  0.]], dtype=float32)"
      ]
     },
     "execution_count": 3,
     "metadata": {},
     "output_type": "execute_result"
    }
   ],
   "source": [
    "kernel"
   ]
  },
  {
   "cell_type": "code",
   "execution_count": 4,
   "metadata": {},
   "outputs": [],
   "source": [
    "img = np.random.randint(10, size=(12,12))\n",
    "#img = np.ones((10,10),np.float32)"
   ]
  },
  {
   "cell_type": "code",
   "execution_count": 5,
   "metadata": {},
   "outputs": [
    {
     "data": {
      "text/plain": [
       "array([[9, 9, 7, 5, 5, 9, 2, 3, 5, 7, 2, 0],\n",
       "       [7, 3, 4, 7, 4, 3, 4, 7, 6, 9, 4, 3],\n",
       "       [5, 3, 6, 8, 0, 0, 6, 3, 6, 9, 8, 1],\n",
       "       [6, 0, 3, 3, 3, 3, 6, 6, 8, 3, 0, 3],\n",
       "       [8, 3, 9, 1, 7, 0, 5, 8, 1, 8, 9, 8],\n",
       "       [6, 2, 9, 7, 4, 8, 5, 5, 1, 3, 3, 9],\n",
       "       [4, 9, 5, 8, 7, 7, 4, 0, 1, 2, 4, 4],\n",
       "       [1, 6, 9, 2, 1, 9, 5, 4, 9, 6, 7, 2],\n",
       "       [9, 7, 0, 0, 3, 3, 3, 2, 2, 2, 7, 8],\n",
       "       [8, 4, 7, 0, 6, 4, 2, 4, 1, 0, 8, 4],\n",
       "       [6, 2, 2, 8, 3, 9, 5, 8, 8, 9, 6, 0],\n",
       "       [7, 7, 5, 3, 9, 6, 8, 5, 6, 3, 5, 0]])"
      ]
     },
     "execution_count": 5,
     "metadata": {},
     "output_type": "execute_result"
    }
   ],
   "source": [
    "img"
   ]
  },
  {
   "cell_type": "code",
   "execution_count": 6,
   "metadata": {},
   "outputs": [],
   "source": [
    "h,w=img.shape"
   ]
  },
  {
   "cell_type": "code",
   "execution_count": 7,
   "metadata": {},
   "outputs": [
    {
     "name": "stdout",
     "output_type": "stream",
     "text": [
      "12 12\n"
     ]
    }
   ],
   "source": [
    "print(h,w)"
   ]
  },
  {
   "cell_type": "code",
   "execution_count": 8,
   "metadata": {},
   "outputs": [],
   "source": [
    "#[*range(-2,3)]"
   ]
  },
  {
   "cell_type": "code",
   "execution_count": 9,
   "metadata": {},
   "outputs": [
    {
     "name": "stderr",
     "output_type": "stream",
     "text": [
      "<ipython-input-9-6137fcb8b1c2>:1: DeprecationWarning: `np.int` is a deprecated alias for the builtin `int`. To silence this warning, use `int` by itself. Doing this will not modify any behavior and is safe. When replacing `np.int`, you may wish to use e.g. `np.int64` or `np.int32` to specify the precision. If you wish to review your current use, check the release note link for additional information.\n",
      "Deprecated in NumPy 1.20; for more details and guidance: https://numpy.org/devdocs/release/1.20.0-notes.html#deprecations\n",
      "  dst = np.zeros((h,w),np.int)\n"
     ]
    }
   ],
   "source": [
    "dst = np.zeros((h,w),np.int)"
   ]
  },
  {
   "cell_type": "code",
   "execution_count": 10,
   "metadata": {},
   "outputs": [],
   "source": [
    "for i in range(l,h-l):\n",
    "    for j in range(l,w-l):\n",
    "        t=0\n",
    "        for p in range(-l,l+1):\n",
    "            for q in range(-l,l+1):\n",
    "                t += kernel[p+l,q+l]*img[i+p,j+q]\n",
    "        dst[i,j]=t        "
   ]
  },
  {
   "cell_type": "code",
   "execution_count": 11,
   "metadata": {},
   "outputs": [
    {
     "data": {
      "text/plain": [
       "array([[9, 9, 7, 5, 5, 9, 2, 3, 5, 7, 2, 0],\n",
       "       [7, 3, 4, 7, 4, 3, 4, 7, 6, 9, 4, 3],\n",
       "       [5, 3, 6, 8, 0, 0, 6, 3, 6, 9, 8, 1],\n",
       "       [6, 0, 3, 3, 3, 3, 6, 6, 8, 3, 0, 3],\n",
       "       [8, 3, 9, 1, 7, 0, 5, 8, 1, 8, 9, 8],\n",
       "       [6, 2, 9, 7, 4, 8, 5, 5, 1, 3, 3, 9],\n",
       "       [4, 9, 5, 8, 7, 7, 4, 0, 1, 2, 4, 4],\n",
       "       [1, 6, 9, 2, 1, 9, 5, 4, 9, 6, 7, 2],\n",
       "       [9, 7, 0, 0, 3, 3, 3, 2, 2, 2, 7, 8],\n",
       "       [8, 4, 7, 0, 6, 4, 2, 4, 1, 0, 8, 4],\n",
       "       [6, 2, 2, 8, 3, 9, 5, 8, 8, 9, 6, 0],\n",
       "       [7, 7, 5, 3, 9, 6, 8, 5, 6, 3, 5, 0]])"
      ]
     },
     "execution_count": 11,
     "metadata": {},
     "output_type": "execute_result"
    }
   ],
   "source": [
    "img"
   ]
  },
  {
   "cell_type": "code",
   "execution_count": 12,
   "metadata": {},
   "outputs": [
    {
     "data": {
      "text/plain": [
       "array([[  0,   0,   0,   0,   0,   0,   0,   0,   0,   0,   0,   0],\n",
       "       [  0, -11,  -7,   7,   1,  -5,  -2,  12,  -3,  10,  -6,   0],\n",
       "       [  0,  -2,   6,  16, -15, -12,  11, -13,  -2,  10,  18,   0],\n",
       "       [  0, -15,  -6,  -3,  -1,   3,   4,  -1,  16, -13, -23,   0],\n",
       "       [  0,  -7,  20, -22,  20, -23,   1,  15, -21,  16,  17,   0],\n",
       "       [  0, -19,  13,   6, -13,  16,  -2,   6,  -6,  -2, -13,   0],\n",
       "       [  0,  19, -15,  11,   8,   0,  -1, -14,  -8,  -6,   0,   0],\n",
       "       [  0,  -2,  23, -10, -17,  20,   0,   0,  23,   4,   9,   0],\n",
       "       [  0,   9, -23,  -5,   2,  -7,   0,  -5,  -6,  -7,   3,   0],\n",
       "       [  0,  -8,  22, -21,  14,  -4,  -8,   3, -10, -20,  15,   0],\n",
       "       [  0, -11, -14,  24, -20,  18,  -7,  10,   8,  19,   2,   0],\n",
       "       [  0,   0,   0,   0,   0,   0,   0,   0,   0,   0,   0,   0]])"
      ]
     },
     "execution_count": 12,
     "metadata": {},
     "output_type": "execute_result"
    }
   ],
   "source": [
    "dst"
   ]
  },
  {
   "cell_type": "code",
   "execution_count": 13,
   "metadata": {},
   "outputs": [],
   "source": [
    "img = cv2.imread('lena.png', 0)"
   ]
  },
  {
   "cell_type": "code",
   "execution_count": 14,
   "metadata": {},
   "outputs": [],
   "source": [
    "h,w=img.shape"
   ]
  },
  {
   "cell_type": "code",
   "execution_count": 15,
   "metadata": {},
   "outputs": [],
   "source": [
    "dst = np.zeros((h-2*l,w-2*l),np.uint8)"
   ]
  },
  {
   "cell_type": "code",
   "execution_count": 16,
   "metadata": {},
   "outputs": [],
   "source": [
    "for i in range(l,h-l):\n",
    "    for j in range(l,w-l):\n",
    "        t=0\n",
    "        for p in range(-l,l+1):\n",
    "            for q in range(-l,l+1):\n",
    "                t += kernel[p+l,q+l]*img[i+p,j+q]\n",
    "        dst[i-l,j-l]=t "
   ]
  },
  {
   "cell_type": "code",
   "execution_count": 17,
   "metadata": {},
   "outputs": [],
   "source": [
    "cv2.imshow('img',img)\n",
    "cv2.imshow('dst',dst)\n",
    "cv2.waitKey(0)\n",
    "cv2.destroyAllWindows()"
   ]
  },
  {
   "cell_type": "code",
   "execution_count": null,
   "metadata": {},
   "outputs": [],
   "source": []
  },
  {
   "cell_type": "code",
   "execution_count": null,
   "metadata": {},
   "outputs": [],
   "source": []
  }
 ],
 "metadata": {
  "kernelspec": {
   "display_name": "Python 3",
   "language": "python",
   "name": "python3"
  },
  "language_info": {
   "codemirror_mode": {
    "name": "ipython",
    "version": 3
   },
   "file_extension": ".py",
   "mimetype": "text/x-python",
   "name": "python",
   "nbconvert_exporter": "python",
   "pygments_lexer": "ipython3",
   "version": "3.9.4"
  }
 },
 "nbformat": 4,
 "nbformat_minor": 4
}
