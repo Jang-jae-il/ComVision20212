{
 "cells": [
  {
   "cell_type": "markdown",
   "id": "677326b1-b026-49ff-a231-141d9cc67625",
   "metadata": {},
   "source": [
    "### Control Flow"
   ]
  },
  {
   "cell_type": "code",
   "execution_count": 5,
   "id": "af0ee057-42bb-4aba-8849-423200b50f20",
   "metadata": {},
   "outputs": [
    {
     "name": "stdout",
     "output_type": "stream",
     "text": [
      "x equals something else.\n",
      "This is outside the 'if'.\n"
     ]
    }
   ],
   "source": [
    "if x ==3:\n",
    "    print (\"x equals 3.\")\n",
    "elif x == 2:\n",
    "    print (\"x equals 2.\")\n",
    "else:\n",
    "    print (\"x equals something else.\")\n",
    "print (\"This is outside the 'if'.\")"
   ]
  },
  {
   "cell_type": "code",
   "execution_count": 4,
   "id": "5e3d98bc-2c7b-4562-932e-d78c6ce28035",
   "metadata": {},
   "outputs": [
    {
     "name": "stdout",
     "output_type": "stream",
     "text": [
      "3 still in the loop\n",
      "4 still in the loop\n"
     ]
    }
   ],
   "source": [
    "x=3\n",
    "while x< 5:\n",
    "    print (x,\"still in the loop\")\n",
    "    x = x+1"
   ]
  },
  {
   "cell_type": "code",
   "execution_count": 6,
   "id": "abd813ea-b745-4836-bec4-02a45a8a11b4",
   "metadata": {},
   "outputs": [],
   "source": [
    "x = 6\n",
    "while x < 5:\n",
    "    print(x,\"still in the loop\")"
   ]
  },
  {
   "cell_type": "code",
   "execution_count": 7,
   "id": "14fcc77c-dce2-4f9e-9b78-938060b63188",
   "metadata": {},
   "outputs": [
    {
     "ename": "NameError",
     "evalue": "name 'number_of_players' is not defined",
     "output_type": "error",
     "traceback": [
      "\u001b[1;31m---------------------------------------------------------------------------\u001b[0m",
      "\u001b[1;31mNameError\u001b[0m                                 Traceback (most recent call last)",
      "\u001b[1;32m<ipython-input-7-c197a3ed1f42>\u001b[0m in \u001b[0;36m<module>\u001b[1;34m\u001b[0m\n\u001b[1;32m----> 1\u001b[1;33m \u001b[1;32massert\u001b[0m \u001b[1;33m(\u001b[0m\u001b[0mnumber_of_players\u001b[0m \u001b[1;33m<\u001b[0m \u001b[1;36m5\u001b[0m\u001b[1;33m)\u001b[0m\u001b[1;33m\u001b[0m\u001b[1;33m\u001b[0m\u001b[0m\n\u001b[0m",
      "\u001b[1;31mNameError\u001b[0m: name 'number_of_players' is not defined"
     ]
    }
   ],
   "source": [
    "assert (number_of_players < 5)"
   ]
  },
  {
   "cell_type": "code",
   "execution_count": null,
   "id": "b6939ce5-67cb-4a7a-8f4a-65d01a068cb2",
   "metadata": {},
   "outputs": [],
   "source": []
  }
 ],
 "metadata": {
  "kernelspec": {
   "display_name": "Python 3",
   "language": "python",
   "name": "python3"
  },
  "language_info": {
   "codemirror_mode": {
    "name": "ipython",
    "version": 3
   },
   "file_extension": ".py",
   "mimetype": "text/x-python",
   "name": "python",
   "nbconvert_exporter": "python",
   "pygments_lexer": "ipython3",
   "version": "3.9.4"
  }
 },
 "nbformat": 4,
 "nbformat_minor": 5
}
